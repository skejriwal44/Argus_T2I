{
 "cells": [
  {
   "cell_type": "code",
   "execution_count": 1,
   "id": "2b67fa37-b050-4d89-a063-b33d8685cc76",
   "metadata": {},
   "outputs": [],
   "source": [
    "## end to end system design needs access to databse and cache mechanism deployed - skipped for anonimousity"
   ]
  },
  {
   "cell_type": "code",
   "execution_count": null,
   "id": "6a1ab479-226b-4df3-9af6-3730bbe65029",
   "metadata": {},
   "outputs": [],
   "source": []
  }
 ],
 "metadata": {
  "kernelspec": {
   "display_name": "approx_cache",
   "language": "python",
   "name": "approx_cache"
  },
  "language_info": {
   "codemirror_mode": {
    "name": "ipython",
    "version": 3
   },
   "file_extension": ".py",
   "mimetype": "text/x-python",
   "name": "python",
   "nbconvert_exporter": "python",
   "pygments_lexer": "ipython3",
   "version": "3.10.9"
  }
 },
 "nbformat": 4,
 "nbformat_minor": 5
}
